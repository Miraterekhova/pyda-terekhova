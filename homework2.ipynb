{
 "cells": [
  {
   "cell_type": "markdown",
   "metadata": {},
   "source": [
    "# Домашнее задание к лекции \"Введение в типы данных и циклы. Часть 1\""
   ]
  },
  {
   "cell_type": "markdown",
   "metadata": {},
   "source": [
    "## Задание 1"
   ]
  },
  {
   "cell_type": "markdown",
   "metadata": {},
   "source": [
    "Дана переменная, в которой хранится слово из латинских букв. Напишите код, который выводит на экран:\n",
    "\n",
    "среднюю букву, если число букв в слове нечетное;\n",
    "две средних буквы, если число букв четное.\n",
    "Примеры работы программы:\n",
    "\n",
    "word = 'test'\n",
    "Результат:\n",
    "es\n",
    "\n",
    "word = 'testing'\n",
    "Результат:\n",
    "t"
   ]
  },
  {
   "cell_type": "code",
   "execution_count": 1,
   "metadata": {},
   "outputs": [],
   "source": [
    "word = 'test'"
   ]
  },
  {
   "cell_type": "code",
   "execution_count": 3,
   "metadata": {},
   "outputs": [
    {
     "data": {
      "text/plain": [
       "'es'"
      ]
     },
     "execution_count": 3,
     "metadata": {},
     "output_type": "execute_result"
    }
   ],
   "source": [
    "word [1:3]"
   ]
  },
  {
   "cell_type": "code",
   "execution_count": 4,
   "metadata": {},
   "outputs": [],
   "source": [
    "word = 'testing' "
   ]
  },
  {
   "cell_type": "code",
   "execution_count": 6,
   "metadata": {},
   "outputs": [
    {
     "data": {
      "text/plain": [
       "'t'"
      ]
     },
     "execution_count": 6,
     "metadata": {},
     "output_type": "execute_result"
    }
   ],
   "source": [
    "word [3]"
   ]
  },
  {
   "cell_type": "markdown",
   "metadata": {},
   "source": [
    "## Задание 2"
   ]
  },
  {
   "cell_type": "markdown",
   "metadata": {},
   "source": [
    "Напишите программу, которая последовательно запрашивает у пользователя числа (по одному за раз) и после первого нуля выводит сумму всех ранее введенных чисел.\n",
    "\n",
    "Примеры работы программы:\n",
    "\n",
    "Введите число:  \n",
    "1\n",
    "\n",
    "Введите число:  \n",
    "4\n",
    "\n",
    "Введите число:  \n",
    "6\n",
    "\n",
    "Введите число:  \n",
    "0\n",
    "Результат:\n",
    "11\n",
    "\n",
    "Введите число:  \n",
    "0\n",
    "Результат:\n",
    "0"
   ]
  },
  {
   "cell_type": "code",
   "execution_count": 76,
   "metadata": {},
   "outputs": [
    {
     "name": "stdout",
     "output_type": "stream",
     "text": [
      "Введите число 5\n",
      "Введите число 3\n",
      "5\n",
      "Введите число 1\n",
      "8\n",
      "Введите число 0\n",
      "9\n"
     ]
    }
   ],
   "source": [
    "x = int(input('Введите число '))\n",
    "summa = 0\n",
    "while x != 0:\n",
    "    summa += x\n",
    "    x = int(input('Введите число ')) \n",
    "    print (summa)"
   ]
  },
  {
   "cell_type": "markdown",
   "metadata": {},
   "source": [
    "## Задание 3"
   ]
  },
  {
   "cell_type": "markdown",
   "metadata": {},
   "source": [
    "Мы делаем MVP dating-сервиса, и у нас есть список парней и девушек.\n",
    "Выдвигаем гипотезу: лучшие рекомендации мы получим, если просто отсортируем имена по алфавиту и познакомим людей с одинаковыми индексами после сортировки! Но мы не будем никого знакомить, если кто-то может остаться без пары:\n",
    "\n",
    "Примеры работы программы:\n",
    "\n",
    "boys = ['Peter', 'Alex', 'John', 'Arthur', 'Richard']\n",
    "girls = ['Kate', 'Liza', 'Kira', 'Emma', 'Trisha']\n",
    "Результат:\n",
    "\n",
    "Идеальные пары:  \n",
    "Alex и Emma  \n",
    "Arthur и Kate  \n",
    "John и Kira  \n",
    "Peter и Liza  \n",
    "Richard и Trisha\n",
    "boys = ['Peter', 'Alex', 'John', 'Arthur', 'Richard', 'Michael']\n",
    "girls = ['Kate', 'Liza', 'Kira', 'Emma', 'Trisha']\n",
    "Результат:\n",
    "Внимание, кто-то может остаться без пары!"
   ]
  },
  {
   "cell_type": "code",
   "execution_count": 91,
   "metadata": {
    "scrolled": true
   },
   "outputs": [
    {
     "name": "stdout",
     "output_type": "stream",
     "text": [
      "['Emma', 'Kate', 'Kira', 'Liza', 'Trisha']\n",
      "['Alex', 'Arthur', 'John', 'Peter', 'Richard']\n"
     ]
    }
   ],
   "source": [
    "boys = ['Peter', 'Alex', 'John', 'Arthur', 'Richard']\n",
    "girls = ['Kate', 'Liza', 'Kira', 'Emma', 'Trisha']\n",
    "sogirls = sorted(girls)\n",
    "soboys = sorted(boys)\n",
    "print(sogirls)\n",
    "print(soboys)"
   ]
  },
  {
   "cell_type": "code",
   "execution_count": 92,
   "metadata": {},
   "outputs": [
    {
     "name": "stdout",
     "output_type": "stream",
     "text": [
      "<zip object at 0x0000026CA63EA480>\n"
     ]
    }
   ],
   "source": [
    "boys_girls = zip(sogirls,soboys)\n",
    "print(boys_girls)"
   ]
  },
  {
   "cell_type": "code",
   "execution_count": null,
   "metadata": {},
   "outputs": [],
   "source": [
    "professions_person = zip(professions, person)\n",
    "list(professions_person)"
   ]
  },
  {
   "cell_type": "code",
   "execution_count": 93,
   "metadata": {},
   "outputs": [
    {
     "data": {
      "text/plain": [
       "[('Emma', 'Alex'),\n",
       " ('Kate', 'Arthur'),\n",
       " ('Kira', 'John'),\n",
       " ('Liza', 'Peter'),\n",
       " ('Trisha', 'Richard')]"
      ]
     },
     "execution_count": 93,
     "metadata": {},
     "output_type": "execute_result"
    }
   ],
   "source": [
    "list (boys_girls)"
   ]
  },
  {
   "cell_type": "code",
   "execution_count": 1,
   "metadata": {},
   "outputs": [],
   "source": [
    "boys = ['Peter', 'Alex', 'John', 'Arthur', 'Richard', 'Michael'] \n",
    "girls = ['Kate', 'Liza', 'Kira', 'Emma', 'Trisha'] "
   ]
  },
  {
   "cell_type": "code",
   "execution_count": 2,
   "metadata": {},
   "outputs": [
    {
     "name": "stdout",
     "output_type": "stream",
     "text": [
      "Внимание, кто-то может остаться без пары\n"
     ]
    }
   ],
   "source": [
    "while len(boys) != len(girls):\n",
    "    print('Внимание, кто-то может остаться без пары')\n",
    "    break"
   ]
  },
  {
   "cell_type": "markdown",
   "metadata": {},
   "source": [
    "## Задание 4"
   ]
  },
  {
   "cell_type": "markdown",
   "metadata": {},
   "source": [
    "У нас есть список, содержащий информацию о среднедневной температуре в Фаренгейтах за произвольный период по странам (структура данных в примере). Необходимо написать код, который рассчитает среднюю температуру за период в Цельсиях(!) для каждой страны.\n",
    "\n",
    "Пример работы программы:\n",
    "\n",
    "countries_temperature = [\n",
    "    ['Thailand', [75.2, 77, 78.8, 73.4, 68, 75.2, 77]],\n",
    "    ['Germany', [57.2, 55.4, 59, 59, 53.6]],\n",
    "    ['Russia', [35.6, 37.4, 39.2, 41, 42.8, 39.2, 35.6]],\n",
    "    ['Poland', [50, 50, 53.6, 57.2, 55.4, 55.4]]\n",
    "]\n",
    "Результат:\n",
    "\n",
    "Средняя температура в странах:\n",
    "Thailand  -  23.9 С\n",
    "Germany  -  13.8 С\n",
    "Russia  -  3.7 С\n",
    "Poland  -  12.0 С"
   ]
  },
  {
   "cell_type": "code",
   "execution_count": 2,
   "metadata": {},
   "outputs": [],
   "source": [
    "countries_temperature = [\n",
    "    ['Thailand', [75.2, 77, 78.8, 73.4, 68, 75.2, 77]],\n",
    "    ['Germany', [57.2, 55.4, 59, 59, 53.6]],\n",
    "    ['Russia', [35.6, 37.4, 39.2, 41, 42.8, 39.2, 35.6]],\n",
    "    ['Poland', [50, 50, 53.6, 57.2, 55.4, 55.4]]\n",
    "]"
   ]
  },
  {
   "cell_type": "code",
   "execution_count": 19,
   "metadata": {},
   "outputs": [
    {
     "name": "stdout",
     "output_type": "stream",
     "text": [
      "Средняя температура в странах:\n",
      "\n",
      "Thailand - 23.857142857142854\n",
      "Germany - 13.799999999999999\n",
      "Russia - 3.714285714285717\n",
      "Poland - 11.999999999999998\n"
     ]
    }
   ],
   "source": [
    "print('Средняя температура в странах:')\n",
    "print('')\n",
    "for row in countries_temperature:\n",
    "    temp_sum = sum(row[1])\n",
    "    temp_avg = ((temp_sum/len(row[1])) - 32) * (5/9)\n",
    "    print(f'{row[0]} - {temp_avg}')"
   ]
  }
 ],
 "metadata": {
  "kernelspec": {
   "display_name": "Python 3",
   "language": "python",
   "name": "python3"
  },
  "language_info": {
   "codemirror_mode": {
    "name": "ipython",
    "version": 3
   },
   "file_extension": ".py",
   "mimetype": "text/x-python",
   "name": "python",
   "nbconvert_exporter": "python",
   "pygments_lexer": "ipython3",
   "version": "3.7.8"
  }
 },
 "nbformat": 4,
 "nbformat_minor": 4
}
