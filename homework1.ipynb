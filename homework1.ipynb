{
 "cells": [
  {
   "cell_type": "markdown",
   "metadata": {},
   "source": [
    "# Домашняя работа"
   ]
  },
  {
   "cell_type": "markdown",
   "metadata": {},
   "source": [
    "## Задание 1"
   ]
  },
  {
   "cell_type": "code",
   "execution_count": 47,
   "metadata": {},
   "outputs": [],
   "source": [
    "phrase_1 = 'Насколько проще было бы писать программы, если бы не заказчики'\n",
    "phrase_2 = '640Кб должно хватить для любых задач. Билл Гейтс (по легенде)'"
   ]
  },
  {
   "cell_type": "code",
   "execution_count": 48,
   "metadata": {},
   "outputs": [
    {
     "name": "stdout",
     "output_type": "stream",
     "text": [
      "Фраза 1 длиннее фразы 2\n"
     ]
    }
   ],
   "source": [
    "if len(phrase_1) > len(phrase_2):\n",
    "    print ('Фраза 1 длиннее фразы 2')\n",
    "\n",
    "elif len(phrase_1) == len(phrase_2):\n",
    "    print ('Фразы равной длины')\n",
    "\n",
    "elif len(phrase_1) < len(phrase_2):\n",
    "    print ('Фраза 2 длиннее фразы 1')"
   ]
  },
  {
   "cell_type": "markdown",
   "metadata": {},
   "source": [
    "## Задание 2"
   ]
  },
  {
   "cell_type": "code",
   "execution_count": 49,
   "metadata": {},
   "outputs": [
    {
     "name": "stdout",
     "output_type": "stream",
     "text": [
      "2020 Високосный год\n"
     ]
    }
   ],
   "source": [
    "year = 2020\n",
    "if year % 4 == 0:\n",
    "    print (year, 'Високосный год')\n",
    "else:\n",
    "    print (year, 'Обычный год')\n"
   ]
  },
  {
   "cell_type": "markdown",
   "metadata": {},
   "source": [
    "## Задание 3"
   ]
  },
  {
   "cell_type": "markdown",
   "metadata": {},
   "source": [
    "Узнайте свой знак зодиака"
   ]
  },
  {
   "cell_type": "code",
   "execution_count": 50,
   "metadata": {},
   "outputs": [
    {
     "name": "stdout",
     "output_type": "stream",
     "text": [
      "Введите день25\n",
      "Введите месяцvfq\n"
     ]
    }
   ],
   "source": [
    "day = int(input('Введите день'))\n",
    "month = str(input('Введите месяц'))\n",
    "if month == 'март' and day > 20 or month == 'апрель' and day < 21:\n",
    "    print ('Ваш знак зодиака: Овен')\n",
    "elif month == 'апрель' and day >20 or month == 'май' and day < 21:\n",
    "    print ('Ваш знак зодиака: Телец')\n",
    "elif month == 'май' and day >20 or month == 'июнь' and day < 22:\n",
    "    print ('Ваш знак зодиака: Близнецы')\n",
    "elif month == 'июнь' and day >21 or month == 'июль' and day < 23:\n",
    "    print ('Ваш знак зодиака: Рак')\n",
    "elif month == 'июль' and day >22 or month == 'август' and day < 24:\n",
    "    print ('Ваш знак зодиака: Лев')\n",
    "elif month == 'август' and day >23 or month == 'сентябрь' and day < 24:\n",
    "    print ('Ваш знак зодиака: Дева')\n",
    "elif month == 'сентябрь' and day >23 or month == 'октябрь' and day < 24:\n",
    "    print ('Ваш знак зодиака: Весы')\n",
    "elif month == 'октябрь' and day >23 or month == 'ноябрь' and day < 23:\n",
    "    print ('Ваш знак зодиака: Скорпион')\n",
    "elif month == 'ноябрь' and day >22 or month == 'декабрь' and day < 22:\n",
    "    print ('Ваш знак зодиака: Стрелец')\n",
    "elif month == 'декабрь' and day >21 or month == 'январь' and day < 21:\n",
    "    print ('Ваш знак зодиака: Козерог')\n",
    "elif month == 'январь' and day >22 or month == 'февраль' and day < 21:\n",
    "    print ('Ваш знак зодиака: Водолей')\n",
    "elif month == 'февраль' and day >20 or month == 'март' and day < 21:\n",
    "    print ('Ваш знак зодиака: Рыба')"
   ]
  },
  {
   "cell_type": "markdown",
   "metadata": {},
   "source": [
    "## Задание 4"
   ]
  },
  {
   "cell_type": "markdown",
   "metadata": {},
   "source": [
    "Программа для подбора упаковок по размерам товара"
   ]
  },
  {
   "cell_type": "code",
   "execution_count": 51,
   "metadata": {},
   "outputs": [
    {
     "name": "stdout",
     "output_type": "stream",
     "text": [
      "Упаковка для лыж\n"
     ]
    }
   ],
   "source": [
    "width = 10\n",
    "length = 205\n",
    "height = 5\n",
    "if width < 15 and length < 15 and height < 15:\n",
    "    print('Коробка №1')\n",
    "elif width > 15 and width < 50  or length > 15 and length < 50 or height > 15 and height < 50:\n",
    "    print('Коробка №2')\n",
    "elif length > 200:\n",
    "    print('Упаковка для лыж')\n",
    "else:\n",
    "    print('Стандартная коробка №3')"
   ]
  },
  {
   "cell_type": "markdown",
   "metadata": {},
   "source": [
    "## Задание 5"
   ]
  },
  {
   "cell_type": "markdown",
   "metadata": {},
   "source": [
    "Программа определяющая статус билела"
   ]
  },
  {
   "cell_type": "code",
   "execution_count": 52,
   "metadata": {},
   "outputs": [
    {
     "name": "stdout",
     "output_type": "stream",
     "text": [
      "Введите номер вашего билета658124\n",
      "Несчастливый билет\n"
     ]
    }
   ],
   "source": [
    "user_action = str(input('Введите номер вашего билета'))\n",
    "sum1 = int(user_action[0]) + int(user_action[1]) + int(user_action[2])\n",
    "sum2 = int(user_action[4]) + int(user_action[5]) + int(user_action[3])\n",
    "if sum1 == sum2:\n",
    "    print('Ваш билет счастливый')\n",
    "else:\n",
    "    print('Несчастливый билет')"
   ]
  },
  {
   "cell_type": "markdown",
   "metadata": {},
   "source": [
    "## Задание 6"
   ]
  },
  {
   "cell_type": "markdown",
   "metadata": {},
   "source": [
    "Программа вычисляющая площадь фигуры"
   ]
  },
  {
   "cell_type": "code",
   "execution_count": 54,
   "metadata": {},
   "outputs": [
    {
     "name": "stdout",
     "output_type": "stream",
     "text": [
      "Введите тип фигурыкруг\n",
      "Введите радиус круга:6\n",
      "113.09733552923255\n"
     ]
    }
   ],
   "source": [
    "import math\n",
    "\n",
    "type_figure = str(input('Введите тип фигуры'))\n",
    "\n",
    "if type_figure == 'круг':\n",
    "    r = float(input('Введите радиус круга:'))\n",
    "    s = math.pi * (r**2)\n",
    "    print (s)\n",
    "\n",
    "elif type_figure == 'треугольник':\n",
    "    a = float(input('Введите длину стороны A:'))\n",
    "    b = float(input('Введите длину стороны B:'))\n",
    "    c = float(input('Введите длину стороны С:'))\n",
    "    p = a + b + c\n",
    "    s2 = math.sqrt(p/2 *((p-a)*(p-b)*(p-c)))\n",
    "    print (s2)\n",
    "\n",
    "elif type_figure == 'прямоугольник':\n",
    "    d = float(input('Введите длину стороны А:'))\n",
    "    e = float(input('Введите длину стороны В:'))\n",
    "    s3 = d*e\n",
    "    print(s3)"
   ]
  }
 ],
 "metadata": {
  "kernelspec": {
   "display_name": "Python 3",
   "language": "python",
   "name": "python3"
  },
  "language_info": {
   "codemirror_mode": {
    "name": "ipython",
    "version": 3
   },
   "file_extension": ".py",
   "mimetype": "text/x-python",
   "name": "python",
   "nbconvert_exporter": "python",
   "pygments_lexer": "ipython3",
   "version": "3.8.3"
  }
 },
 "nbformat": 4,
 "nbformat_minor": 4
}
