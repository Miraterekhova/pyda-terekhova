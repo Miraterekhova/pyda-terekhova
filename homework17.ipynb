{
 "cells": [
  {
   "cell_type": "markdown",
   "metadata": {},
   "source": [
    "# Домашнее задание к лекции.\n",
    "http://prntscr.com/uh35yg\n",
    "\n",
    "Смоделировать игру против лотерейного автомата типа “777”. Игрок платит 1 руб., после чего выпадает случайное целое число, равномерно распределенное от 0 до 999. При некоторых значениях числа игрок получает выигрыш (см. справа)\n",
    "\n",
    "Выгодна ли игра игроку?\n",
    "\n",
    "Сколько в среднем приобретает\n",
    "или теряет игрок за одну игру?\n",
    "\n",
    "777: 200 руб.\n",
    "999: 100 руб.\n",
    "555: 50 руб.\n",
    "333: 15 руб.\n",
    "111: 10 руб.\n",
    "*77: 5 руб.\n",
    "**7: 3 руб.\n",
    "*00: 2 руб.\n",
    "**0: 1 руб.\n",
    "\n",
    "– любая цифра\n",
    "\n",
    "Дополнительное задание повышенной сложности. Теоретически рассчитать средний выигрыш (проигрыш) и сравнить с результатами моделирования"
   ]
  },
  {
   "cell_type": "code",
   "execution_count": 1,
   "metadata": {},
   "outputs": [],
   "source": [
    "import numpy as np\n",
    "import random"
   ]
  },
  {
   "cell_type": "code",
   "execution_count": 4,
   "metadata": {},
   "outputs": [
    {
     "name": "stdout",
     "output_type": "stream",
     "text": [
      "Средний выигрыш/проигрыш за одну игру -0.654\n"
     ]
    }
   ],
   "source": [
    "games = 1000 # кол-во попыток\n",
    "many_winner = 1000 # сумма выигрыша, на начало игры у игрока 1000 единиц\n",
    "count_winner = 0\n",
    "\n",
    "for i in range(games):\n",
    "    random_number = random.randint(100,1000)\n",
    "    if random_number == 999:\n",
    "        many_winner += 99\n",
    "        count_winner +=1\n",
    "    elif random_number == 777:\n",
    "        many_winner += 199\n",
    "        count_winner +=1\n",
    "    elif random_number == 555:\n",
    "        many_winner += 49\n",
    "        count_winner +=1\n",
    "    elif random_number == 333:\n",
    "        many_winner += 14\n",
    "        count_winner +=1\n",
    "    elif random_number == 111:\n",
    "        many_winner += 9\n",
    "        count_winner +=1\n",
    "    elif random_number%100 == 77:\n",
    "        many_winner += 4\n",
    "        count_winner +=1\n",
    "    elif random_number%100 == 7:\n",
    "        many_winner += 2\n",
    "        count_winner +=1\n",
    "    elif random_number%100 == 0:\n",
    "        many_winner += 1\n",
    "        count_winner +=1\n",
    "    elif random_number%100 == 10 or random_number%100 == 20 or random_number%100 == 30 or random_number%100 == 40 or random_number%100 == 50 or random_number%100 == 60 or random_number%100 == 70 or random_number%100 == 80 or random_number%100 == 90:\n",
    "        many_winner += 0\n",
    "        count_winner +=1\n",
    "    else:\n",
    "        many_winner -= 1\n",
    "        \n",
    "p = count_winner/games # вероятность что игрок выигрывает\n",
    "\n",
    "\n",
    "winner = many_winner/games -1# средний проигрыш игрока за 1 игру\n",
    "print (f'Средний выигрыш/проигрыш за одну игру {winner}') \n",
    "\n"
   ]
  },
  {
   "cell_type": "code",
   "execution_count": null,
   "metadata": {},
   "outputs": [],
   "source": []
  }
 ],
 "metadata": {
  "kernelspec": {
   "display_name": "Python 3",
   "language": "python",
   "name": "python3"
  },
  "language_info": {
   "codemirror_mode": {
    "name": "ipython",
    "version": 3
   },
   "file_extension": ".py",
   "mimetype": "text/x-python",
   "name": "python",
   "nbconvert_exporter": "python",
   "pygments_lexer": "ipython3",
   "version": "3.8.3"
  }
 },
 "nbformat": 4,
 "nbformat_minor": 4
}
